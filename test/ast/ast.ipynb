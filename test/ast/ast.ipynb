{
 "cells": [
  {
   "cell_type": "code",
   "execution_count": 2,
   "id": "fddd7b9b-30e2-4e71-831d-1bd3b0d525dd",
   "metadata": {
    "tags": []
   },
   "outputs": [],
   "source": [
    "import ast"
   ]
  },
  {
   "cell_type": "code",
   "execution_count": 3,
   "id": "8eee5034-84a3-49e7-8ad3-a33f63e49863",
   "metadata": {
    "tags": []
   },
   "outputs": [
    {
     "name": "stdout",
     "output_type": "stream",
     "text": [
      "print('hello, world')\n"
     ]
    }
   ],
   "source": [
    "code_str = \"print('hello, world')\"\n",
    "print(code_str)"
   ]
  },
  {
   "cell_type": "code",
   "execution_count": 4,
   "id": "bd6d600d-031c-479d-93ce-c5acc465c59c",
   "metadata": {
    "tags": []
   },
   "outputs": [],
   "source": [
    "root = ast.parse(code_str)"
   ]
  },
  {
   "cell_type": "code",
   "execution_count": 5,
   "id": "be3e8c91-53f9-41a5-a003-dcbaa63c63a7",
   "metadata": {
    "tags": []
   },
   "outputs": [
    {
     "name": "stdout",
     "output_type": "stream",
     "text": [
      "<_ast.Module object at 0x7ff34c619fd0>\n"
     ]
    }
   ],
   "source": [
    "print(root)"
   ]
  },
  {
   "cell_type": "code",
   "execution_count": 6,
   "id": "4c8d9424-74a6-4e41-9cb9-c52eacf260c7",
   "metadata": {
    "tags": []
   },
   "outputs": [
    {
     "data": {
      "text/plain": [
       "['__class__',\n",
       " '__delattr__',\n",
       " '__dict__',\n",
       " '__dir__',\n",
       " '__doc__',\n",
       " '__eq__',\n",
       " '__format__',\n",
       " '__ge__',\n",
       " '__getattribute__',\n",
       " '__gt__',\n",
       " '__hash__',\n",
       " '__init__',\n",
       " '__init_subclass__',\n",
       " '__le__',\n",
       " '__lt__',\n",
       " '__module__',\n",
       " '__ne__',\n",
       " '__new__',\n",
       " '__reduce__',\n",
       " '__reduce_ex__',\n",
       " '__repr__',\n",
       " '__setattr__',\n",
       " '__sizeof__',\n",
       " '__str__',\n",
       " '__subclasshook__',\n",
       " '__weakref__',\n",
       " '_attributes',\n",
       " '_fields',\n",
       " 'body']"
      ]
     },
     "execution_count": 6,
     "metadata": {},
     "output_type": "execute_result"
    }
   ],
   "source": [
    "dir(root)"
   ]
  },
  {
   "cell_type": "code",
   "execution_count": 7,
   "id": "95205356-4e3f-43d0-a813-6a14eac671dd",
   "metadata": {
    "tags": []
   },
   "outputs": [
    {
     "name": "stdout",
     "output_type": "stream",
     "text": [
      "('body',) <class '_ast.Module'>\n"
     ]
    }
   ],
   "source": [
    "print(root._fields, root.__class__)"
   ]
  },
  {
   "cell_type": "code",
   "execution_count": 9,
   "id": "96ac8551-fe56-43ee-8079-38cf6eb8530a",
   "metadata": {
    "tags": []
   },
   "outputs": [
    {
     "name": "stdout",
     "output_type": "stream",
     "text": [
      "[<_ast.Expr object at 0x7ff34c61d050>]\n"
     ]
    }
   ],
   "source": [
    "print(root.body)"
   ]
  },
  {
   "cell_type": "code",
   "execution_count": 10,
   "id": "7e1c8042-c377-44a1-9728-d67c8321c690",
   "metadata": {
    "tags": []
   },
   "outputs": [
    {
     "data": {
      "text/plain": [
       "['__add__',\n",
       " '__class__',\n",
       " '__contains__',\n",
       " '__delattr__',\n",
       " '__delitem__',\n",
       " '__dir__',\n",
       " '__doc__',\n",
       " '__eq__',\n",
       " '__format__',\n",
       " '__ge__',\n",
       " '__getattribute__',\n",
       " '__getitem__',\n",
       " '__gt__',\n",
       " '__hash__',\n",
       " '__iadd__',\n",
       " '__imul__',\n",
       " '__init__',\n",
       " '__init_subclass__',\n",
       " '__iter__',\n",
       " '__le__',\n",
       " '__len__',\n",
       " '__lt__',\n",
       " '__mul__',\n",
       " '__ne__',\n",
       " '__new__',\n",
       " '__reduce__',\n",
       " '__reduce_ex__',\n",
       " '__repr__',\n",
       " '__reversed__',\n",
       " '__rmul__',\n",
       " '__setattr__',\n",
       " '__setitem__',\n",
       " '__sizeof__',\n",
       " '__str__',\n",
       " '__subclasshook__',\n",
       " 'append',\n",
       " 'clear',\n",
       " 'copy',\n",
       " 'count',\n",
       " 'extend',\n",
       " 'index',\n",
       " 'insert',\n",
       " 'pop',\n",
       " 'remove',\n",
       " 'reverse',\n",
       " 'sort']"
      ]
     },
     "execution_count": 10,
     "metadata": {},
     "output_type": "execute_result"
    }
   ],
   "source": [
    "dir(root.body)"
   ]
  },
  {
   "cell_type": "code",
   "execution_count": 11,
   "id": "14d42be2-c241-4c3b-bfcf-55cdb1b771f4",
   "metadata": {
    "tags": []
   },
   "outputs": [
    {
     "name": "stdout",
     "output_type": "stream",
     "text": [
      "<class 'list'>\n",
      "<class '_ast.Expr'>\n",
      "['__class__', '__delattr__', '__dict__', '__dir__', '__doc__', '__eq__', '__format__', '__ge__', '__getattribute__', '__gt__', '__hash__', '__init__', '__init_subclass__', '__le__', '__lt__', '__module__', '__ne__', '__new__', '__reduce__', '__reduce_ex__', '__repr__', '__setattr__', '__sizeof__', '__str__', '__subclasshook__', '__weakref__', '_attributes', '_fields']\n",
      "('value',)\n",
      "<_ast.Call object at 0x7ff34c61d090>\n"
     ]
    }
   ],
   "source": [
    "print(root.body.__class__)\n",
    "print(root.body[0].__class__)\n",
    "print(dir(root.body[0].__class__))\n",
    "print(root.body[0].__class__._fields)\n",
    "print(root.body[0].value)"
   ]
  },
  {
   "cell_type": "code",
   "execution_count": 18,
   "id": "551fa96b-dc3e-4ba6-923d-058abe259d86",
   "metadata": {
    "tags": []
   },
   "outputs": [],
   "source": [
    "class CodeVistor(ast.NodeVisitor):\n",
    "    def generic_visit(self, node):\n",
    "        print(\"generic_visit\")\n",
    "        # print(node)\n",
    "        print(type(node).__name__)\n",
    "        ast.NodeVisitor.generic_visit(self, node)\n",
    "        \n",
    "    def visit(self, node):\n",
    "        print(\"--visit--\")\n",
    "        ast.NodeVisitor.visit(self, node)"
   ]
  },
  {
   "cell_type": "code",
   "execution_count": 19,
   "id": "439496ca-c1ac-466a-8779-f82d79d52359",
   "metadata": {
    "tags": []
   },
   "outputs": [
    {
     "name": "stdout",
     "output_type": "stream",
     "text": [
      "['__class__', '__delattr__', '__dict__', '__dir__', '__doc__', '__eq__', '__format__', '__ge__', '__getattribute__', '__gt__', '__hash__', '__init__', '__init_subclass__', '__le__', '__lt__', '__module__', '__ne__', '__new__', '__reduce__', '__reduce_ex__', '__repr__', '__setattr__', '__sizeof__', '__str__', '__subclasshook__', '__weakref__', 'generic_visit', 'visit']\n"
     ]
    }
   ],
   "source": [
    "v = CodeVistor()\n",
    "print(dir(v))"
   ]
  },
  {
   "cell_type": "code",
   "execution_count": 21,
   "id": "49a25097-3668-4b59-8af1-ccacdba5789c",
   "metadata": {
    "tags": []
   },
   "outputs": [
    {
     "name": "stdout",
     "output_type": "stream",
     "text": [
      "--visit--\n",
      "generic_visit\n",
      "Module\n",
      "--visit--\n",
      "generic_visit\n",
      "Expr\n",
      "--visit--\n",
      "generic_visit\n",
      "Call\n",
      "--visit--\n",
      "generic_visit\n",
      "Name\n",
      "--visit--\n",
      "generic_visit\n",
      "Load\n",
      "--visit--\n",
      "generic_visit\n",
      "Str\n"
     ]
    }
   ],
   "source": [
    "# code_str = \"print('hello, world')\"\n",
    "v.visit(root)"
   ]
  },
  {
   "cell_type": "code",
   "execution_count": 24,
   "id": "26bca4f8-7f36-443c-b11b-9f60a22fa631",
   "metadata": {
    "tags": []
   },
   "outputs": [],
   "source": [
    "class CodeVistor(ast.NodeVisitor):\n",
    "    def generic_visit(self, node):\n",
    "        print(\"generic_visit\")\n",
    "        # print(node)\n",
    "        print(type(node).__name__)\n",
    "        ast.NodeVisitor.generic_visit(self, node)"
   ]
  },
  {
   "cell_type": "code",
   "execution_count": 25,
   "id": "71693672-e33e-4405-a7c7-c811c491ca2f",
   "metadata": {
    "tags": []
   },
   "outputs": [
    {
     "name": "stdout",
     "output_type": "stream",
     "text": [
      "generic_visit\n",
      "Module\n",
      "generic_visit\n",
      "Expr\n",
      "generic_visit\n",
      "Call\n",
      "generic_visit\n",
      "Name\n",
      "generic_visit\n",
      "Load\n",
      "generic_visit\n",
      "Str\n"
     ]
    }
   ],
   "source": [
    "# code_str = \"print('hello, world')\"\n",
    "v = CodeVistor()\n",
    "v.visit(root)"
   ]
  },
  {
   "cell_type": "code",
   "execution_count": 26,
   "id": "8b2aaeed-29ee-4bfa-8f27-5de4a3b35c10",
   "metadata": {
    "tags": []
   },
   "outputs": [
    {
     "name": "stdout",
     "output_type": "stream",
     "text": [
      "--visit--\n",
      "Module\n",
      "--visit--\n",
      "Expr\n",
      "--visit--\n",
      "Call\n",
      "--visit--\n",
      "Name\n",
      "--visit--\n",
      "Load\n",
      "--visit--\n",
      "Str\n"
     ]
    }
   ],
   "source": [
    "class CodeVistor(ast.NodeVisitor):\n",
    "        \n",
    "    def visit(self, node):\n",
    "        print(\"--visit--\")\n",
    "        print(type(node).__name__)\n",
    "        ast.NodeVisitor.visit(self, node)\n",
    "\n",
    "# code_str = \"print('hello, world')\"\n",
    "v = CodeVistor()\n",
    "v.visit(root)"
   ]
  },
  {
   "cell_type": "code",
   "execution_count": 39,
   "id": "571206a3-74f7-432c-87df-21ae0e398841",
   "metadata": {
    "tags": []
   },
   "outputs": [
    {
     "name": "stdout",
     "output_type": "stream",
     "text": [
      "<_ast.Module object at 0x7ff34c619fd0>\n",
      "<_ast.Expr object at 0x7ff34c61d050>\n",
      "<_ast.Call object at 0x7ff34c61d090>\n",
      "<_ast.Name object at 0x7ff34c61d0d0>\n",
      "<_ast.Load object at 0x7ff355d137d0>\n",
      "<_ast.Str object at 0x7ff34c61d110>\n"
     ]
    }
   ],
   "source": [
    "class CodeVistor(ast.NodeTransformer):\n",
    "    def generic_visit(self, node):\n",
    "        print(node)\n",
    "        ast.NodeVisitor.generic_visit(self, node)\n",
    "        return node\n",
    "        \n",
    "    def vist_Call(self, node):\n",
    "        print(node)\n",
    "        return node\n",
    "    \n",
    "    def vist_Name(self, node):\n",
    "        print(node.id)\n",
    "        print(node.ctx)\n",
    "        return node\n",
    "        \n",
    "# code_str = \"print('hello, world')\"\n",
    "v = CodeVistor()\n",
    "n = v.visit(root)"
   ]
  },
  {
   "cell_type": "code",
   "execution_count": 69,
   "id": "24ce7bf3-d9ef-46eb-8636-dcabb0ccb16f",
   "metadata": {
    "tags": []
   },
   "outputs": [],
   "source": [
    "class CodeVistor(ast.NodeVisitor):\n",
    "        \n",
    "    def vist_Call(self, node):\n",
    "        print(node)\n",
    "        return node\n",
    "    \n",
    "    def vist_Name(self, node):\n",
    "        print(node.id)\n",
    "        print(node.ctx)\n",
    "        return node\n",
    "        \n",
    "# code_str = \"print('hello, world')\"\n",
    "v = CodeVistor()\n",
    "n = v.visit(root)"
   ]
  },
  {
   "cell_type": "code",
   "execution_count": 41,
   "id": "bd7cc7a5-0bea-42e6-9326-479514ce74ec",
   "metadata": {
    "tags": []
   },
   "outputs": [],
   "source": [
    "import astor"
   ]
  },
  {
   "cell_type": "code",
   "execution_count": 43,
   "id": "6d0cc16e-d52c-4b79-b946-94d4ea812fa6",
   "metadata": {
    "tags": []
   },
   "outputs": [
    {
     "data": {
      "text/plain": [
       "['CodeToAst',\n",
       " 'ExplicitNodeVisitor',\n",
       " 'ROOT',\n",
       " 'SourceGenerator',\n",
       " 'TreeWalk',\n",
       " '__builtins__',\n",
       " '__cached__',\n",
       " '__doc__',\n",
       " '__file__',\n",
       " '__loader__',\n",
       " '__name__',\n",
       " '__package__',\n",
       " '__path__',\n",
       " '__spec__',\n",
       " '__version__',\n",
       " 'all_symbols',\n",
       " 'code_gen',\n",
       " 'code_to_ast',\n",
       " 'codegen',\n",
       " 'codetoast',\n",
       " 'dump',\n",
       " 'dump_tree',\n",
       " 'file_util',\n",
       " 'get_anyop',\n",
       " 'get_binop',\n",
       " 'get_boolop',\n",
       " 'get_cmpop',\n",
       " 'get_op_precedence',\n",
       " 'get_op_symbol',\n",
       " 'get_unaryop',\n",
       " 'iter_node',\n",
       " 'node_util',\n",
       " 'op_util',\n",
       " 'os',\n",
       " 'parse_file',\n",
       " 'parsefile',\n",
       " 'source_repr',\n",
       " 'string_repr',\n",
       " 'strip_tree',\n",
       " 'symbol_data',\n",
       " 'to_source',\n",
       " 'tree_walk',\n",
       " 'treewalk',\n",
       " 'version_file',\n",
       " 'warnings']"
      ]
     },
     "execution_count": 43,
     "metadata": {},
     "output_type": "execute_result"
    }
   ],
   "source": [
    "dir(astor)"
   ]
  },
  {
   "cell_type": "code",
   "execution_count": 44,
   "id": "5d756180-5b3f-4a45-8beb-6a696c7b35bf",
   "metadata": {
    "tags": []
   },
   "outputs": [
    {
     "ename": "TypeError",
     "evalue": "'module' object is not callable",
     "output_type": "error",
     "traceback": [
      "\u001b[0;31m---------------------------------------------------------------------------\u001b[0m",
      "\u001b[0;31mTypeError\u001b[0m                                 Traceback (most recent call last)",
      "\u001b[0;32m/tmp/ipykernel_67746/654369203.py\u001b[0m in \u001b[0;36m<module>\u001b[0;34m\u001b[0m\n\u001b[0;32m----> 1\u001b[0;31m \u001b[0mastor\u001b[0m\u001b[0;34m.\u001b[0m\u001b[0mcode_gen\u001b[0m\u001b[0;34m(\u001b[0m\u001b[0mn\u001b[0m\u001b[0;34m)\u001b[0m\u001b[0;34m\u001b[0m\u001b[0;34m\u001b[0m\u001b[0m\n\u001b[0m",
      "\u001b[0;31mTypeError\u001b[0m: 'module' object is not callable"
     ]
    }
   ],
   "source": []
  },
  {
   "cell_type": "code",
   "execution_count": 46,
   "id": "629d604e-0031-4aa0-88c7-5cf599d307d2",
   "metadata": {
    "tags": []
   },
   "outputs": [
    {
     "ename": "AttributeError",
     "evalue": "module 'ast' has no attribute 'compile'",
     "output_type": "error",
     "traceback": [
      "\u001b[0;31m---------------------------------------------------------------------------\u001b[0m",
      "\u001b[0;31mAttributeError\u001b[0m                            Traceback (most recent call last)",
      "\u001b[0;32m/tmp/ipykernel_67746/4147729204.py\u001b[0m in \u001b[0;36m<module>\u001b[0;34m\u001b[0m\n\u001b[0;32m----> 1\u001b[0;31m \u001b[0mast\u001b[0m\u001b[0;34m.\u001b[0m\u001b[0mcompile\u001b[0m\u001b[0;34m(\u001b[0m\u001b[0mn\u001b[0m\u001b[0;34m)\u001b[0m\u001b[0;34m\u001b[0m\u001b[0;34m\u001b[0m\u001b[0m\n\u001b[0m",
      "\u001b[0;31mAttributeError\u001b[0m: module 'ast' has no attribute 'compile'"
     ]
    }
   ],
   "source": [
    "ast.compile(n)"
   ]
  },
  {
   "cell_type": "code",
   "execution_count": 47,
   "id": "f37d8738-2c93-47f3-a86a-d7f63d712def",
   "metadata": {
    "tags": []
   },
   "outputs": [
    {
     "data": {
      "text/plain": [
       "['AST',\n",
       " 'Add',\n",
       " 'And',\n",
       " 'AnnAssign',\n",
       " 'Assert',\n",
       " 'Assign',\n",
       " 'AsyncFor',\n",
       " 'AsyncFunctionDef',\n",
       " 'AsyncWith',\n",
       " 'Attribute',\n",
       " 'AugAssign',\n",
       " 'AugLoad',\n",
       " 'AugStore',\n",
       " 'Await',\n",
       " 'BinOp',\n",
       " 'BitAnd',\n",
       " 'BitOr',\n",
       " 'BitXor',\n",
       " 'BoolOp',\n",
       " 'Break',\n",
       " 'Bytes',\n",
       " 'Call',\n",
       " 'ClassDef',\n",
       " 'Compare',\n",
       " 'Constant',\n",
       " 'Continue',\n",
       " 'Del',\n",
       " 'Delete',\n",
       " 'Dict',\n",
       " 'DictComp',\n",
       " 'Div',\n",
       " 'Ellipsis',\n",
       " 'Eq',\n",
       " 'ExceptHandler',\n",
       " 'Expr',\n",
       " 'Expression',\n",
       " 'ExtSlice',\n",
       " 'FloorDiv',\n",
       " 'For',\n",
       " 'FormattedValue',\n",
       " 'FunctionDef',\n",
       " 'GeneratorExp',\n",
       " 'Global',\n",
       " 'Gt',\n",
       " 'GtE',\n",
       " 'If',\n",
       " 'IfExp',\n",
       " 'Import',\n",
       " 'ImportFrom',\n",
       " 'In',\n",
       " 'Index',\n",
       " 'Interactive',\n",
       " 'Invert',\n",
       " 'Is',\n",
       " 'IsNot',\n",
       " 'JoinedStr',\n",
       " 'LShift',\n",
       " 'Lambda',\n",
       " 'List',\n",
       " 'ListComp',\n",
       " 'Load',\n",
       " 'Lt',\n",
       " 'LtE',\n",
       " 'MatMult',\n",
       " 'Mod',\n",
       " 'Module',\n",
       " 'Mult',\n",
       " 'Name',\n",
       " 'NameConstant',\n",
       " 'NodeTransformer',\n",
       " 'NodeVisitor',\n",
       " 'Nonlocal',\n",
       " 'Not',\n",
       " 'NotEq',\n",
       " 'NotIn',\n",
       " 'Num',\n",
       " 'Or',\n",
       " 'Param',\n",
       " 'Pass',\n",
       " 'Pow',\n",
       " 'PyCF_ONLY_AST',\n",
       " 'RShift',\n",
       " 'Raise',\n",
       " 'Return',\n",
       " 'Set',\n",
       " 'SetComp',\n",
       " 'Slice',\n",
       " 'Starred',\n",
       " 'Store',\n",
       " 'Str',\n",
       " 'Sub',\n",
       " 'Subscript',\n",
       " 'Suite',\n",
       " 'Try',\n",
       " 'Tuple',\n",
       " 'UAdd',\n",
       " 'USub',\n",
       " 'UnaryOp',\n",
       " 'While',\n",
       " 'With',\n",
       " 'Yield',\n",
       " 'YieldFrom',\n",
       " '__builtins__',\n",
       " '__cached__',\n",
       " '__doc__',\n",
       " '__file__',\n",
       " '__loader__',\n",
       " '__name__',\n",
       " '__package__',\n",
       " '__spec__',\n",
       " 'alias',\n",
       " 'arg',\n",
       " 'arguments',\n",
       " 'boolop',\n",
       " 'cmpop',\n",
       " 'comprehension',\n",
       " 'copy_location',\n",
       " 'dump',\n",
       " 'excepthandler',\n",
       " 'expr',\n",
       " 'expr_context',\n",
       " 'fix_missing_locations',\n",
       " 'get_docstring',\n",
       " 'increment_lineno',\n",
       " 'iter_child_nodes',\n",
       " 'iter_fields',\n",
       " 'keyword',\n",
       " 'literal_eval',\n",
       " 'mod',\n",
       " 'operator',\n",
       " 'parse',\n",
       " 'slice',\n",
       " 'stmt',\n",
       " 'unaryop',\n",
       " 'walk',\n",
       " 'withitem']"
      ]
     },
     "execution_count": 47,
     "metadata": {},
     "output_type": "execute_result"
    }
   ],
   "source": [
    "dir(ast)"
   ]
  },
  {
   "cell_type": "code",
   "execution_count": 50,
   "id": "a3b1087b-f738-4e10-85e9-86c538d3c71f",
   "metadata": {
    "tags": []
   },
   "outputs": [],
   "source": [
    "data = \"\"\"\n",
    "def nums():\n",
    "    for i in range(2):\n",
    "        if i % 2 == 0:\n",
    "            print(\"even: \", i)\n",
    "        else:\n",
    "            print(\" odd: \", i)\n",
    "\n",
    "nums()\n",
    "\"\"\""
   ]
  },
  {
   "cell_type": "code",
   "execution_count": 51,
   "id": "85fef195-024b-4678-8e4a-44d9ec32b37f",
   "metadata": {
    "tags": []
   },
   "outputs": [],
   "source": [
    "cm = compile(data, '<string>', 'exec')"
   ]
  },
  {
   "cell_type": "code",
   "execution_count": 57,
   "id": "8cb106dc-da3a-404f-8b2d-d48927698e44",
   "metadata": {
    "tags": []
   },
   "outputs": [
    {
     "name": "stdout",
     "output_type": "stream",
     "text": [
      "even:  0\n",
      " odd:  1\n"
     ]
    }
   ],
   "source": [
    "exec(cm)"
   ]
  },
  {
   "cell_type": "code",
   "execution_count": 56,
   "id": "365d0f38-d04d-407d-8a4f-064ad22d5c84",
   "metadata": {
    "tags": []
   },
   "outputs": [
    {
     "name": "stdout",
     "output_type": "stream",
     "text": [
      "('nums',)\n"
     ]
    }
   ],
   "source": []
  },
  {
   "cell_type": "code",
   "execution_count": 58,
   "id": "aac050b7-f71d-473a-bd86-2569a55d20b0",
   "metadata": {
    "tags": []
   },
   "outputs": [],
   "source": [
    "f_ast = ast.parse(data)"
   ]
  },
  {
   "cell_type": "code",
   "execution_count": 66,
   "id": "dac19c5e-39c7-4dd9-a94f-13a8527f6164",
   "metadata": {
    "tags": []
   },
   "outputs": [
    {
     "name": "stdout",
     "output_type": "stream",
     "text": [
      "(\"Module(body=[FunctionDef(name='nums', args=arguments(args=[], vararg=None, \"\n",
      " 'kwonlyargs=[], kw_defaults=[], kwarg=None, defaults=[]), '\n",
      " \"body=[For(target=Name(id='i', ctx=Store()), iter=Call(func=Name(id='range', \"\n",
      " 'ctx=Load()), args=[Num(n=2)], keywords=[]), '\n",
      " \"body=[If(test=Compare(left=BinOp(left=Name(id='i', ctx=Load()), op=Mod(), \"\n",
      " 'right=Num(n=2)), ops=[Eq()], comparators=[Num(n=0)]), '\n",
      " \"body=[Expr(value=Call(func=Name(id='print', ctx=Load()), args=[Str(s='even: \"\n",
      " \"'), Name(id='i', ctx=Load())], keywords=[]))], \"\n",
      " \"orelse=[Expr(value=Call(func=Name(id='print', ctx=Load()), args=[Str(s=' \"\n",
      " \"odd: '), Name(id='i', ctx=Load())], keywords=[]))])], orelse=[])], \"\n",
      " \"decorator_list=[], returns=None), Expr(value=Call(func=Name(id='nums', \"\n",
      " 'ctx=Load()), args=[], keywords=[]))])')\n"
     ]
    }
   ],
   "source": [
    "import pprint \n",
    "pprint.pprint(ast.dump(f_ast))"
   ]
  },
  {
   "cell_type": "code",
   "execution_count": 77,
   "id": "ed4978ff-7547-405a-8a14-7b9ecbf9630c",
   "metadata": {
    "tags": []
   },
   "outputs": [
    {
     "name": "stdout",
     "output_type": "stream",
     "text": [
      "binop <_ast.BinOp object at 0x7ff34c602d10>\n"
     ]
    }
   ],
   "source": [
    "class NodeVisitor(ast.NodeVisitor):\n",
    "    # def generic_visit(self, node):\n",
    "    #     print('generic vist:', node)\n",
    "        \n",
    "    def visit_BinOp(self, node): # 修改操作符\n",
    "        print('binop', node)\n",
    "        if isinstance(node.op, ast.Mod):\n",
    "            node.op = ast.Add()\n",
    "        self.generic_visit(node) # 遍历子节点\n",
    "\n",
    "visitor = NodeVisitor()\n",
    "visitor.visit(f_ast) # 遍历"
   ]
  },
  {
   "cell_type": "code",
   "execution_count": 78,
   "id": "4279fd06-2324-4170-ab8b-29520a51b62b",
   "metadata": {
    "tags": []
   },
   "outputs": [
    {
     "data": {
      "text/plain": [
       "<_ast.Module at 0x7ff34c602ad0>"
      ]
     },
     "execution_count": 78,
     "metadata": {},
     "output_type": "execute_result"
    }
   ],
   "source": [
    "class NodeTransformer(ast.NodeTransformer):\n",
    "    def visit_If(self, node):\n",
    "        return ast.If(\n",
    "            test=node.test,\n",
    "            body=node.body,\n",
    "            orelse=[]\n",
    "        )\n",
    "\n",
    "transformer = NodeTransformer()\n",
    "f_ast = transformer.visit(f_ast) # 返回新的 AST\n",
    "ast.fix_missing_locations(f_ast)"
   ]
  },
  {
   "cell_type": "code",
   "execution_count": 82,
   "id": "3f628252-37c8-4714-89ac-e29b6103b887",
   "metadata": {
    "tags": []
   },
   "outputs": [],
   "source": [
    "cm = compile(f_ast, '<ast>', 'exec')\n",
    "exec(cm)"
   ]
  },
  {
   "cell_type": "code",
   "execution_count": 83,
   "id": "47eec2a3-b9a6-41d2-a71f-71f1d7560f2f",
   "metadata": {
    "tags": []
   },
   "outputs": [
    {
     "data": {
      "text/plain": [
       "\"Module(body=[FunctionDef(name='nums', args=arguments(args=[], vararg=None, kwonlyargs=[], kw_defaults=[], kwarg=None, defaults=[]), body=[For(target=Name(id='i', ctx=Store()), iter=Call(func=Name(id='range', ctx=Load()), args=[Num(n=2)], keywords=[]), body=[If(test=Compare(left=BinOp(left=Name(id='i', ctx=Load()), op=Add(), right=Num(n=2)), ops=[Eq()], comparators=[Num(n=0)]), body=[Expr(value=Call(func=Name(id='print', ctx=Load()), args=[Str(s='even: '), Name(id='i', ctx=Load())], keywords=[]))], orelse=[])], orelse=[])], decorator_list=[], returns=None), Expr(value=Call(func=Name(id='nums', ctx=Load()), args=[], keywords=[]))])\""
      ]
     },
     "execution_count": 83,
     "metadata": {},
     "output_type": "execute_result"
    }
   ],
   "source": [
    "ast.dump(f_ast)"
   ]
  },
  {
   "cell_type": "code",
   "execution_count": 84,
   "id": "e081d4c2-f714-4fbb-be0b-e70456ca6ac5",
   "metadata": {
    "tags": []
   },
   "outputs": [
    {
     "ename": "AttributeError",
     "evalue": "module 'ast' has no attribute 'compile'",
     "output_type": "error",
     "traceback": [
      "\u001b[0;31m---------------------------------------------------------------------------\u001b[0m",
      "\u001b[0;31mAttributeError\u001b[0m                            Traceback (most recent call last)",
      "\u001b[0;32m/tmp/ipykernel_67746/2122758224.py\u001b[0m in \u001b[0;36m<module>\u001b[0;34m\u001b[0m\n\u001b[0;32m----> 1\u001b[0;31m \u001b[0mast\u001b[0m\u001b[0;34m.\u001b[0m\u001b[0mcompile\u001b[0m\u001b[0;34m(\u001b[0m\u001b[0mf_ast\u001b[0m\u001b[0;34m)\u001b[0m\u001b[0;34m\u001b[0m\u001b[0;34m\u001b[0m\u001b[0m\n\u001b[0m",
      "\u001b[0;31mAttributeError\u001b[0m: module 'ast' has no attribute 'compile'"
     ]
    }
   ],
   "source": [
    "ast.compile(f_ast)"
   ]
  },
  {
   "cell_type": "code",
   "execution_count": 89,
   "id": "8063869c-0e22-4b1d-afe7-a56a255bfda2",
   "metadata": {
    "tags": []
   },
   "outputs": [],
   "source": [
    "f_ast = ast.parse(data)\n",
    "cm = compile(f_ast, '<string>', 'exec')"
   ]
  },
  {
   "cell_type": "code",
   "execution_count": 90,
   "id": "cd8481b4-1a52-491c-900e-1dbbf3ea9e80",
   "metadata": {
    "tags": []
   },
   "outputs": [
    {
     "name": "stdout",
     "output_type": "stream",
     "text": [
      "even:  0\n",
      " odd:  1\n"
     ]
    }
   ],
   "source": [
    "exec(cm)"
   ]
  },
  {
   "cell_type": "code",
   "execution_count": 92,
   "id": "a2d91178-b3c6-4b35-a76c-5c0cfd71c3a7",
   "metadata": {
    "tags": []
   },
   "outputs": [
    {
     "name": "stdout",
     "output_type": "stream",
     "text": [
      "even:  0\n",
      " odd:  1\n"
     ]
    }
   ],
   "source": [
    "exec(compile(f_ast, '<string>', 'exec'))"
   ]
  },
  {
   "cell_type": "code",
   "execution_count": null,
   "id": "6b04e3fa-3dc3-475d-8c9f-16e4e4305865",
   "metadata": {},
   "outputs": [],
   "source": []
  }
 ],
 "metadata": {
  "kernelspec": {
   "display_name": "Python 3 (ipykernel)",
   "language": "python",
   "name": "python3"
  },
  "language_info": {
   "codemirror_mode": {
    "name": "ipython",
    "version": 3
   },
   "file_extension": ".py",
   "mimetype": "text/x-python",
   "name": "python",
   "nbconvert_exporter": "python",
   "pygments_lexer": "ipython3",
   "version": "3.7.10"
  }
 },
 "nbformat": 4,
 "nbformat_minor": 5
}
